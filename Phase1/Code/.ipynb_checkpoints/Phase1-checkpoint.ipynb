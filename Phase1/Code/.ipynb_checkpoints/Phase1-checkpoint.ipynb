{
 "cells": [
  {
   "cell_type": "code",
   "execution_count": 72,
   "id": "22e60f0f",
   "metadata": {},
   "outputs": [],
   "source": [
    "import numpy as np\n",
    "import cv2\n",
    "import matplotlib.pyplot as plt\n",
    "import math\n",
    "import numpy.linalg\n",
    "import glob\n",
    "import copy\n",
    "import skimage.feature\n",
    "from skimage.feature import peak_local_max"
   ]
  },
  {
   "cell_type": "code",
   "execution_count": 73,
   "id": "f36b3f23",
   "metadata": {},
   "outputs": [],
   "source": [
    "#read the image\n",
    "img1 = cv2.imread('/home/naitri/Downloads/YourDirectoryID_p1/Phase1/Data/Train/Set2/1.jpg')\n",
    "img2 = cv2.imread('/home/naitri/Downloads/YourDirectoryID_p1/Phase1/Data/Train/Set2/2.jpg')\n",
    "gray1 = cv2.cvtColor(img1, cv2.COLOR_BGR2GRAY)\n",
    "gray2 = cv2.cvtColor(img2, cv2.COLOR_BGR2GRAY)\n",
    "\n",
    "i1 = img1.copy()\n",
    "blah = img1.copy()\n",
    "i2 = img2.copy()"
   ]
  },
  {
   "cell_type": "code",
   "execution_count": 74,
   "id": "9650038f",
   "metadata": {},
   "outputs": [],
   "source": [
    "#detect corners in both images\n",
    "mask = np.full((img1.shape[0], img1.shape[1]), 0, dtype=np.uint8)\n",
    "corners1 = cv2.goodFeaturesToTrack(gray1, 1000, 0.01,10)\n",
    "\n",
    "for i in corners1:\n",
    "    x,y = i.ravel()\n",
    "    cv2.circle(i1,(int(x),int(y)),5,(0,0,255),-1)\n",
    "    cv2.circle(mask,(int(x),int(y)),5,(255,255,255),-1)\n",
    "\n",
    "# blahh = cv2.bitwise_and(img1,img1,mask = image)\n",
    "# cv2.imshow('blhh', blahh)\n",
    "# cv2.waitKey(0)\n",
    "# cv2.destroyAllWindows()\n",
    "# corners2 = cv2.goodFeaturesToTrack(gray2, 1000, 0.01,10)\n",
    "# for i in corners2:\n",
    "#     x,y = i.ravel()\n",
    "#     cv2.circle(i2,(int(x),int(y)),5,(0,0,255),-1)\n",
    "\n",
    "# cv2.imshow('corner2', i2)\n",
    "\n"
   ]
  },
  {
   "cell_type": "code",
   "execution_count": 93,
   "id": "ca29d2df",
   "metadata": {},
   "outputs": [],
   "source": [
    "\n",
    "corner_img = cv2.bitwise_and(gray1, mask)\n",
    "# cv2.imshow('blhh', bitwiseAnd)\n",
    "\n",
    "# cv2.waitKey(0)\n",
    "# cv2.destroyAllWindows()"
   ]
  },
  {
   "cell_type": "code",
   "execution_count": 98,
   "id": "4ff18e9a",
   "metadata": {},
   "outputs": [],
   "source": [
    "def ANMS(cmap):\n",
    "    \n",
    "# \tcorners = cv2.goodFeaturesToTrack(img, 1000,0.01,10)\n",
    "    dist =0\n",
    "    maxima = peak_local_max(cmap, min_distance=25)\n",
    "    nbest = 50\n",
    "    nstrong = maxima.shape[0]\n",
    "#     r = [np.Infinity for i in range(nstrong)]\n",
    "#     new_x = [np.zeros for i in range(nstrong)]\n",
    "#     new_y = [np.zeros for i in range(nstrong)]\n",
    "    r = np.Infinity * np.ones([nstrong,3])\n",
    "    for i in range(nstrong):\n",
    "        for j in range(nstrong):\n",
    "            xi = maxima[i][0]\n",
    "            xj = maxima[j][0]\n",
    "            yi = maxima[i][1]\n",
    "            yj = maxima[j][1]\n",
    "            if(cmap[xj,yj] > cmap[xi,yi]):\n",
    "                dist = np.square(xj -xi) + np.square(yj-yi)\n",
    "            if dist < r[i,0]:\n",
    "                r[i,0] = dist\n",
    "                r[i,1] = xi\n",
    "                r[i,2] = yi\n",
    "#     r_sorted = np.argsort(r)[::-1]\n",
    "#     r_sorted =r_sorted[0:nbest]\n",
    "    feat = r[np.argsort(-r[:, 0])]\n",
    "    \n",
    "    best_corners = feat[:nbest,:]\n",
    "    return best_corners\n",
    "  \n",
    "    \n"
   ]
  },
  {
   "cell_type": "code",
   "execution_count": 102,
   "id": "8716652f",
   "metadata": {},
   "outputs": [
    {
     "name": "stdout",
     "output_type": "stream",
     "text": [
      "(50, 3)\n"
     ]
    }
   ],
   "source": [
    "best_corners1= ANMS(corner_img)\n",
    "print(best_corners1.shape)"
   ]
  },
  {
   "cell_type": "code",
   "execution_count": 100,
   "id": "dad61d0b",
   "metadata": {},
   "outputs": [],
   "source": [
    "\n",
    "for corner1 in best_corners1:\n",
    "    _,y1,x1 = corner1.ravel()\n",
    "    cv2.circle(blah,(int(x1),int(y1)),3,255,-1)"
   ]
  },
  {
   "cell_type": "code",
   "execution_count": 101,
   "id": "506e1c4d",
   "metadata": {},
   "outputs": [],
   "source": [
    "cv2.imshow('corner1', i1)\n",
    "cv2.imshow('anms', blah)\n",
    "cv2.waitKey(0)\n",
    "cv2.destroyAllWindows()"
   ]
  },
  {
   "cell_type": "code",
   "execution_count": null,
   "id": "786e3684",
   "metadata": {},
   "outputs": [],
   "source": [
    "def feature_descriptor(img,corners):\n",
    "    patch_size = 40\n",
    "    features = []\n",
    "    for i in range(corners.shape[0]):\n",
    "        x = corners[i][2]\n",
    "        y = corners[i][1]\n",
    "        img = img[x - patch_size//2 : x + patch_size//2, y - patch_size//2 : y + patch_size//2]\n",
    "        blur = cv2.GaussianBlur(img,(5,5),0)\n",
    "        \n",
    "        \n",
    "    "
   ]
  }
 ],
 "metadata": {
  "kernelspec": {
   "display_name": "Python 3 (ipykernel)",
   "language": "python",
   "name": "python3"
  },
  "language_info": {
   "codemirror_mode": {
    "name": "ipython",
    "version": 3
   },
   "file_extension": ".py",
   "mimetype": "text/x-python",
   "name": "python",
   "nbconvert_exporter": "python",
   "pygments_lexer": "ipython3",
   "version": "3.7.4"
  }
 },
 "nbformat": 4,
 "nbformat_minor": 5
}
